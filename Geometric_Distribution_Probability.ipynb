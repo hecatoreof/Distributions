{
 "cells": [
  {
   "cell_type": "markdown",
   "id": "9397f08e-7ea1-4f31-87d8-355031e4d487",
   "metadata": {},
   "source": [
    "# Geometric distribution\n",
    "## P = p*(1-p)^(m-1), m = 1,2,..."
   ]
  },
  {
   "cell_type": "markdown",
   "id": "da7dc83c-57bf-47a3-a48c-04b473dd7b13",
   "metadata": {},
   "source": [
    "### Глобальные переменные"
   ]
  },
  {
   "cell_type": "code",
   "execution_count": 10,
   "id": "279d006d-9e60-4304-81b5-ec643dc7286e",
   "metadata": {},
   "outputs": [],
   "source": [
    "eps = 1e-7\n",
    "m = list(range(1, 201))"
   ]
  },
  {
   "cell_type": "markdown",
   "id": "96276a93-e557-4050-b662-425f87d82021",
   "metadata": {},
   "source": [
    "### Вычисление теоретических вероятностей в m[i] "
   ]
  },
  {
   "cell_type": "code",
   "execution_count": 11,
   "id": "c3712f9c-0944-49f6-80f3-17d4883b06f1",
   "metadata": {},
   "outputs": [],
   "source": [
    "def define_probabilities(m, p):\n",
    "    p_list = []\n",
    "    summ = 0\n",
    "    for i in m:\n",
    "        P = p * (1 - p)**(i-1)\n",
    "        p_list.append(P)\n",
    "        summ += P\n",
    "        if (summ >= 1 - eps):\n",
    "            break\n",
    "    return dict(zip(m, p_list))"
   ]
  },
  {
   "cell_type": "markdown",
   "id": "10ec642a-c77b-4428-92cb-35d54c7286ff",
   "metadata": {},
   "source": [
    "### Разбиение на интервалы (точки интервалов)"
   ]
  },
  {
   "cell_type": "code",
   "execution_count": 12,
   "id": "8e3036a2-9718-4b75-9b53-4239c8720e58",
   "metadata": {},
   "outputs": [],
   "source": [
    "def define_points(p_list):\n",
    "    points = [0]\n",
    "    point = 0\n",
    "    for i in p_list:\n",
    "        point += i\n",
    "        points.append(point)\n",
    "    points.append(1)\n",
    "    return points"
   ]
  },
  {
   "cell_type": "markdown",
   "id": "4ac0f6e8-f881-4bd0-ac4d-fb6a3ba092b7",
   "metadata": {},
   "source": [
    "### Выделение интервалов "
   ]
  },
  {
   "cell_type": "code",
   "execution_count": 13,
   "id": "c75f51d6-b03a-4504-a6a8-6a1b812b2835",
   "metadata": {},
   "outputs": [],
   "source": [
    "from collections import namedtuple\n",
    "def define_intervals(points):\n",
    "    intervals = []\n",
    "    Interval = namedtuple('Interval', ['name','start', 'end', 'left_closed','right_closed'])\n",
    "    for i in range(0, len(points)-2):\n",
    "        intervals.append(Interval(name = i+1, start = points[i], end = points[i+1], left_closed = False, right_closed = True)) \n",
    "    intervals.append(Interval(name = len(points)-1, start = points[len(points)-2], end = points[len(points)-1], left_closed = False, right_closed = False)) \n",
    "    return intervals"
   ]
  },
  {
   "cell_type": "markdown",
   "id": "22ef97a1-d42f-4243-99ed-90ebdaf60813",
   "metadata": {},
   "source": [
    "### Принадлежность точки к интервалу"
   ]
  },
  {
   "cell_type": "code",
   "execution_count": 14,
   "id": "8d76f7a5-1724-448b-a2eb-b41aa47e3488",
   "metadata": {},
   "outputs": [],
   "source": [
    "def find_in_interval(value, intervals):\n",
    "    for interval in intervals:\n",
    "        left_condition = value > interval.start if not interval.left_closed else value >= interval.start\n",
    "        right_condition = value < interval.end if not interval.right_closed else value <= interval.end\n",
    "        if left_condition and right_condition:\n",
    "            return interval\n",
    "    return None"
   ]
  },
  {
   "cell_type": "markdown",
   "id": "ccfd8420-64b7-43f8-9504-e6efed01127c",
   "metadata": {},
   "source": [
    "### Количество вхождений случайных в каждый интервал"
   ]
  },
  {
   "cell_type": "code",
   "execution_count": 15,
   "id": "996d1c73-3220-4c82-b46b-a1fc4a00c73b",
   "metadata": {},
   "outputs": [],
   "source": [
    "def count_occurrences(intervals, numbers):\n",
    "    counts = {}\n",
    "    for interval in intervals:\n",
    "        counts[interval.name] = 0  \n",
    "    for number in numbers:\n",
    "        for interval in intervals:\n",
    "            if interval.left_closed:\n",
    "                if interval.right_closed:\n",
    "                    if interval.start <= number <= interval.end:\n",
    "                        counts[interval.name] += 1\n",
    "                        break\n",
    "                else:\n",
    "                    if interval.start <= number < interval.end:\n",
    "                        counts[interval.name] += 1\n",
    "                        break\n",
    "            else:\n",
    "                if interval.right_closed:\n",
    "                    if interval.start < number <= interval.end:\n",
    "                        counts[interval.name] += 1\n",
    "                        break\n",
    "                else:\n",
    "                    if interval.start < number < interval.end:\n",
    "                        counts[interval.name] += 1\n",
    "                        break\n",
    "    return counts"
   ]
  },
  {
   "cell_type": "markdown",
   "id": "4c8f3939-bc5e-45cc-bf74-541c01fc46f1",
   "metadata": {},
   "source": [
    "### Удаление незначащих вероятностей (0.0)"
   ]
  },
  {
   "cell_type": "code",
   "execution_count": 16,
   "id": "b6349891-2ae9-4f9d-9730-ecaa6c20e4b1",
   "metadata": {},
   "outputs": [],
   "source": [
    "def remove_insignificants(counts):\n",
    "    vals = list(counts.values())\n",
    "    while vals and vals[-1] == 0:\n",
    "        vals.pop()\n",
    "    new_counts = {}\n",
    "    i = 0\n",
    "    for key in counts:\n",
    "        if i < len(vals):\n",
    "            new_counts[key] = vals[i]\n",
    "            i += 1\n",
    "        else:\n",
    "            break\n",
    "    return new_counts"
   ]
  },
  {
   "cell_type": "markdown",
   "id": "4807f931-df0a-469c-bf32-0c5b20303b33",
   "metadata": {},
   "source": [
    "## Визуализация"
   ]
  },
  {
   "cell_type": "code",
   "execution_count": 17,
   "id": "f1ff0e2c-3f2d-42b2-aaa5-c74d7a3cb551",
   "metadata": {},
   "outputs": [],
   "source": [
    "import ipywidgets as widgets\n",
    "import numpy as np\n",
    "import matplotlib.pyplot as plt\n",
    "from IPython.display import display\n",
    "import pandas as pd"
   ]
  },
  {
   "cell_type": "code",
   "execution_count": 18,
   "id": "b385e6d9-3ae8-43cc-b79e-3e3a42b387a4",
   "metadata": {},
   "outputs": [
    {
     "data": {
      "application/vnd.jupyter.widget-view+json": {
       "model_id": "487a0e5cbdbc4255939f3ff117abd9df",
       "version_major": 2,
       "version_minor": 0
      },
      "text/plain": [
       "interactive(children=(FloatSlider(value=0.53, description='P: ', max=0.9, min=0.1, step=0.01), Dropdown(descri…"
      ]
     },
     "metadata": {},
     "output_type": "display_data"
    }
   ],
   "source": [
    "def geometrical_distribution(p, factor):\n",
    "    r = np.random.random(factor)\n",
    "    probabilities = define_probabilities(m, p)\n",
    "\n",
    "    points = define_points(probabilities.values())\n",
    "    intervals = define_intervals(points)\n",
    "\n",
    "    counts = count_occurrences(intervals, r)\n",
    "    #new_counts = remove_insignificants(counts)\n",
    "    \n",
    "    # frequencies = [count / factor for count in new_counts.values()]\n",
    "    # practical_distribution = dict(zip(new_counts.keys(), frequencies))\n",
    "    \n",
    "    # theoreticals = list(probabilities.values())[:len(frequencies)]\n",
    "    # theoretical_distribution = dict(zip(new_counts.keys(), theoreticals))\n",
    "    \n",
    "    frequencies = [count / factor for count in counts.values()]\n",
    "    practical_distribution = dict(zip(counts.keys(), frequencies[:-1]))\n",
    "    \n",
    "    theoreticals = list(probabilities.values())[:len(frequencies)]\n",
    "    theoretical_distribution = dict(zip(counts.keys(), theoreticals))\n",
    "    \n",
    "    fig, ax = plt.subplots(figsize=(12, 8))\n",
    "    r1 = np.arange(len(practical_distribution.keys()))\n",
    "    rects1 = ax.bar(r1 - 0.2, practical_distribution.values(), width=0.4, label='Практические вероятности', color='#00b6b2')\n",
    "    \n",
    "    r2 = np.arange(len(theoretical_distribution.keys()))\n",
    "    rects2 = ax.bar(r2 + 0.2, theoretical_distribution.values(), width=0.4, label='Теоретические вероятности', color='#ff5b1b')\n",
    "\n",
    "    def autolabel(rects, clr, offset):\n",
    "        for rect in rects:\n",
    "            height = rect.get_height()\n",
    "            ax.annotate(f'{height:.5f}',\n",
    "                        xy=(rect.get_x() + rect.get_width()/2, height),\n",
    "                        xytext=(0, offset), \n",
    "                        textcoords=\"offset points\",\n",
    "                        ha='center', va='bottom', fontsize=6, color = clr)\n",
    "\n",
    "    autolabel(rects1, '#00b6b2', 3)\n",
    "    autolabel(rects2, '#ff5b1b', 9)\n",
    "\n",
    "    ax.set_xlabel('Интервалы')\n",
    "    ax.set_ylabel('Вероятность')\n",
    "    ax.set_title('Относительная частота геометрического распределения')\n",
    "    ax.set_xticks(r1) \n",
    "    ax.set_xticklabels(practical_distribution.keys()) \n",
    "    ax.legend()\n",
    "    \n",
    "    fig.tight_layout()\n",
    "    \n",
    "    plt.grid(True, axis='y', linestyle = ':')\n",
    "    plt.grid(True, axis='x', linestyle = ':')\n",
    "    plt.show()\n",
    "\n",
    "    for i in intervals:\n",
    "        if i.left_closed == False and i.right_closed == True:\n",
    "            print(f\"{i.name} : ({i.start};{i.end}]\")\n",
    "        else:\n",
    "            print(f\"{i.name} : ({i.start};{i.end})\")\n",
    "\n",
    "    df = pd.DataFrame.from_dict(data = counts, orient = 'index', columns = ['Кол-во вхождений'])\n",
    "    display(df)\n",
    "    \n",
    "    pd.options.display.float_format = '{:.7f}'.format\n",
    "    d = {'Теоретическая': theoretical_distribution.values(), 'Относительная': practical_distribution.values()}\n",
    "    df = pd.DataFrame(data = d, index = theoretical_distribution.keys())\n",
    "    display(df)\n",
    "\n",
    "p_slider = widgets.FloatSlider(\n",
    "    value=0.53,\n",
    "    min=0.1,\n",
    "    max=0.9,\n",
    "    step=0.01,\n",
    "    description='P: '\n",
    ")\n",
    "\n",
    "factor_dropdown = widgets.Dropdown(\n",
    "    options=[1000, 10000, 100000, 1000000],\n",
    "    value=100000,\n",
    "    description='Количество попыток: '\n",
    ")\n",
    "\n",
    "interactive_plot = widgets.interactive(geometrical_distribution, p = p_slider, factor = factor_dropdown)\n",
    "\n",
    "display(interactive_plot)"
   ]
  },
  {
   "cell_type": "code",
   "execution_count": null,
   "id": "f1114caa-aa6e-4534-b007-4dee7e8db9a9",
   "metadata": {},
   "outputs": [],
   "source": []
  }
 ],
 "metadata": {
  "kernelspec": {
   "display_name": "Python 3 (ipykernel)",
   "language": "python",
   "name": "python3"
  },
  "language_info": {
   "codemirror_mode": {
    "name": "ipython",
    "version": 3
   },
   "file_extension": ".py",
   "mimetype": "text/x-python",
   "name": "python",
   "nbconvert_exporter": "python",
   "pygments_lexer": "ipython3",
   "version": "3.12.7"
  }
 },
 "nbformat": 4,
 "nbformat_minor": 5
}
